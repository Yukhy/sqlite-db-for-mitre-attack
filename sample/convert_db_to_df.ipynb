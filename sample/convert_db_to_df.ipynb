{
 "cells": [
  {
   "cell_type": "markdown",
   "id": "329474dc-e6d3-4f31-8f1c-7a68c7201999",
   "metadata": {},
   "source": [
    "This is a sample program to convert from a sqlite database to a Pandas Dataframe.\n",
    "Please use it for data analysis with Jupyter Notebook, etc.\n",
    "\n",
    "sqliteデータベースからPandas Dataframeに変換するサンプルプログラムです。\n",
    "Jupyter Notebookなどでのデータ分析にご利用ください。"
   ]
  },
  {
   "cell_type": "code",
   "execution_count": 17,
   "id": "8c3adeab-825a-4d9d-8dd5-27e7f4d2f625",
   "metadata": {
    "collapsed": true,
    "jupyter": {
     "outputs_hidden": true
    },
    "tags": []
   },
   "outputs": [
    {
     "name": "stdout",
     "output_type": "stream",
     "text": [
      "Requirement already satisfied: pandas in /Users/yukihirokozai/Documents/iniad-lab/.paper/lib/python3.9/site-packages (1.4.3)\n",
      "Requirement already satisfied: numpy>=1.20.0 in /Users/yukihirokozai/Documents/iniad-lab/.paper/lib/python3.9/site-packages (from pandas) (1.23.1)\n",
      "Requirement already satisfied: pytz>=2020.1 in /Users/yukihirokozai/Documents/iniad-lab/.paper/lib/python3.9/site-packages (from pandas) (2022.1)\n",
      "Requirement already satisfied: python-dateutil>=2.8.1 in /Users/yukihirokozai/Documents/iniad-lab/.paper/lib/python3.9/site-packages (from pandas) (2.8.2)\n",
      "Requirement already satisfied: six>=1.5 in /Users/yukihirokozai/Documents/iniad-lab/.paper/lib/python3.9/site-packages (from python-dateutil>=2.8.1->pandas) (1.16.0)\n",
      "\u001b[33mWARNING: There was an error checking the latest version of pip.\u001b[0m\u001b[33m\n",
      "\u001b[0m"
     ]
    }
   ],
   "source": [
    "!pip install pandas\n",
    "import pandas as pd\n",
    "import pandas.io.sql as psql"
   ]
  },
  {
   "cell_type": "code",
   "execution_count": 15,
   "id": "095bc044-51ef-4403-8df1-75527cbf3da0",
   "metadata": {},
   "outputs": [],
   "source": [
    "con = sqlite3.connect(\"../attack.db\")\n",
    "\n",
    "df_ent_tactics = psql.read_sql(\"SELECT * FROM ent_tactics;\", con)\n",
    "df_ent_techniques = psql.read_sql(\"SELECT * FROM ent_techniques\", con)\n",
    "df_groups = psql.read_sql(\"SELECT * FROM groups\", con)\n",
    "\n",
    "df_ent_tactic_technique = psql.read_sql(\"SELECT * FROM j_ent_tactic_technique\", con)\n",
    "df_group_technique = psql.read_sql(\"SELECT * FROM j_group_technique\", con)\n",
    "\n",
    "con.close()"
   ]
  }
 ],
 "metadata": {
  "kernelspec": {
   "display_name": "Python 3.9.13 64-bit",
   "language": "python",
   "name": "python3"
  },
  "language_info": {
   "codemirror_mode": {
    "name": "ipython",
    "version": 3
   },
   "file_extension": ".py",
   "mimetype": "text/x-python",
   "name": "python",
   "nbconvert_exporter": "python",
   "pygments_lexer": "ipython3",
   "version": "3.9.13"
  },
  "vscode": {
   "interpreter": {
    "hash": "b0fa6594d8f4cbf19f97940f81e996739fb7646882a419484c72d19e05852a7e"
   }
  }
 },
 "nbformat": 4,
 "nbformat_minor": 5
}
